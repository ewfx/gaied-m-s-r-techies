{
 "cells": [
  {
   "cell_type": "code",
   "execution_count": null,
   "id": "c3e68699-9544-4474-a9e2-5aeea95e0dd1",
   "metadata": {},
   "outputs": [],
   "source": [
    "# pip install extract-msg\n",
    "# pip install PyPDF2\n",
    "#pip install os"
   ]
  },
  {
   "cell_type": "code",
   "execution_count": 1,
   "id": "18365dc0-edbe-4879-b820-24d9eb92c9d4",
   "metadata": {},
   "outputs": [
    {
     "ename": "ModuleNotFoundError",
     "evalue": "No module named 'PyPDF2'",
     "output_type": "error",
     "traceback": [
      "\u001b[1;31m---------------------------------------------------------------------------\u001b[0m",
      "\u001b[1;31mModuleNotFoundError\u001b[0m                       Traceback (most recent call last)",
      "Cell \u001b[1;32mIn[1], line 2\u001b[0m\n\u001b[0;32m      1\u001b[0m \u001b[38;5;28;01mfrom\u001b[39;00m \u001b[38;5;21;01mextract_msg\u001b[39;00m \u001b[38;5;28;01mimport\u001b[39;00m Message\n\u001b[1;32m----> 2\u001b[0m \u001b[38;5;28;01mimport\u001b[39;00m \u001b[38;5;21;01mPyPDF2\u001b[39;00m\n\u001b[0;32m      3\u001b[0m \u001b[38;5;28;01mimport\u001b[39;00m \u001b[38;5;21;01mos\u001b[39;00m\n",
      "\u001b[1;31mModuleNotFoundError\u001b[0m: No module named 'PyPDF2'"
     ]
    }
   ],
   "source": [
    "from extract_msg import Message\n",
    "import PyPDF2\n",
    "import os"
   ]
  },
  {
   "cell_type": "code",
   "execution_count": null,
   "id": "42abd812-cf2d-49eb-9e75-8178ad08c572",
   "metadata": {},
   "outputs": [],
   "source": []
  },
  {
   "cell_type": "code",
   "execution_count": 8,
   "id": "037ed730-1dd4-444e-8410-210c14cf52fb",
   "metadata": {},
   "outputs": [],
   "source": [
    "msg = Message(\"test.msg\")"
   ]
  },
  {
   "cell_type": "code",
   "execution_count": 9,
   "id": "4a365862-21c2-40dc-9a9e-ca12247bc934",
   "metadata": {},
   "outputs": [
    {
     "name": "stdout",
     "output_type": "stream",
     "text": [
      "Subject: Bill for your Airtel Wi-Fi 08017509808_wifi - March'25\u0000\n",
      "Body: None\n",
      "Attachments: [<extract_msg.attachments.attachment.Attachment object at 0x0000023CE2281FD0>, <extract_msg.attachments.attachment.Attachment object at 0x0000023CE27D4C80>]\n"
     ]
    }
   ],
   "source": [
    "# Print email details\n",
    "print(\"Subject:\", msg.subject)\n",
    "print(\"Body:\", msg.body)\n",
    "print(\"Attachments:\", msg.attachments)"
   ]
  },
  {
   "cell_type": "code",
   "execution_count": null,
   "id": "44877d97-60b0-476c-8e0a-f4c0ef1607af",
   "metadata": {},
   "outputs": [],
   "source": [
    "# Process attachments\n",
    "for attachment in msg.attachments:\n",
    "    if attachment.longFilename.endswith(\".pdf\"):\n",
    "        pdf_path = os.path.join(\"attachments\", attachment.longFilename)\n",
    "        attachment.save(customPath=\"attachments/\")  # Save PDF\n",
    "\n",
    "        # Read PDF content\n",
    "        with open(pdf_path, \"rb\") as file:\n",
    "            reader = PyPDF2.PdfReader(file)\n",
    "            for page in reader.pages:\n",
    "                print(page.extract_text())  # Extract text from each page"
   ]
  },
  {
   "cell_type": "code",
   "execution_count": null,
   "id": "b0d142b6-c230-4dee-823c-5674fa912d91",
   "metadata": {},
   "outputs": [],
   "source": [
    "import instructor\n",
    "from pydantic import BaseModel, Field\n",
    "from openai import OpenAI\n",
    "from enum import Enum\n",
    "from typing import List"
   ]
  },
  {
   "cell_type": "code",
   "execution_count": 13,
   "id": "874defc3-4c4d-44bf-916a-138e2069cecf",
   "metadata": {},
   "outputs": [],
   "source": [
    "msg_text = \"\"\"Money inbound\"\"\""
   ]
  },
  {
   "cell_type": "code",
   "execution_count": 14,
   "id": "8ebd93d3-9948-4235-9f69-231987da06cf",
   "metadata": {},
   "outputs": [],
   "source": [
    "# --------------------------------------------------------------\n",
    "# Regular Completion using OpenAI (with drawbacks)\n",
    "# --------------------------------------------------------------"
   ]
  },
  {
   "cell_type": "code",
   "execution_count": null,
   "id": "aa186707-0880-456e-ad28-3c9500aacd59",
   "metadata": {},
   "outputs": [],
   "source": [
    "client = OpenAI()"
   ]
  },
  {
   "cell_type": "code",
   "execution_count": null,
   "id": "828d3060-69d4-45c2-b750-2ea4199b0c8d",
   "metadata": {},
   "outputs": [],
   "source": [
    "def classify_tickets(ticket_text: str) -> str:\n",
    "    response = client.chat.completions.create(\n",
    "        model=\"gpt-4o\",\n",
    "        messages=[\n",
    "            {\"role\": \"system\", \"content\": \"Classify the following customer support ticket into a category.\"},\n",
    "            {\"role\": \"user\", \"content\": ticket_text}\n",
    "        ]\n",
    "    )\n",
    "    return response.choices[0].message.content\n",
    "\n",
    "result = classify_ticket_simple(ticket1)\n",
    "print(result)"
   ]
  },
  {
   "cell_type": "code",
   "execution_count": 16,
   "id": "04dc7f62-bf7a-4f8a-8b0a-d44b3e42fa52",
   "metadata": {},
   "outputs": [],
   "source": [
    "# --------------------------------------------------------------\n",
    "# Step 2: Patch your LLM with instructor\n",
    "# --------------------------------------------------------------"
   ]
  },
  {
   "cell_type": "code",
   "execution_count": null,
   "id": "60240032-87e7-437f-a146-6eaf670ccaa3",
   "metadata": {},
   "outputs": [],
   "source": [
    "# Instructor makes it easy to get structured data like JSON from LLMs\n",
    "client = instructor.patch(client)"
   ]
  },
  {
   "cell_type": "code",
   "execution_count": 27,
   "id": "07fa012a-6554-4176-a091-3b93f1925a74",
   "metadata": {},
   "outputs": [
    {
     "ename": "SyntaxError",
     "evalue": "invalid syntax (2788149541.py, line 1)",
     "output_type": "error",
     "traceback": [
      "\u001b[1;36m  Cell \u001b[1;32mIn[27], line 1\u001b[1;36m\u001b[0m\n\u001b[1;33m    ** Step 3: Define Pydantic data models **\u001b[0m\n\u001b[1;37m    ^\u001b[0m\n\u001b[1;31mSyntaxError\u001b[0m\u001b[1;31m:\u001b[0m invalid syntax\n"
     ]
    }
   ],
   "source": [
    "** Step 3: Define Pydantic data models **"
   ]
  },
  {
   "cell_type": "code",
   "execution_count": 18,
   "id": "c8b91e93-ab3a-4973-b151-46c647f2f4b7",
   "metadata": {},
   "outputs": [
    {
     "ename": "NameError",
     "evalue": "name 'Enum' is not defined",
     "output_type": "error",
     "traceback": [
      "\u001b[1;31m---------------------------------------------------------------------------\u001b[0m",
      "\u001b[1;31mNameError\u001b[0m                                 Traceback (most recent call last)",
      "Cell \u001b[1;32mIn[18], line 1\u001b[0m\n\u001b[1;32m----> 1\u001b[0m \u001b[38;5;28;01mclass\u001b[39;00m \u001b[38;5;21;01mTicketCategory\u001b[39;00m(\u001b[38;5;28mstr\u001b[39m, \u001b[43mEnum\u001b[49m):\n\u001b[0;32m      2\u001b[0m     REQUEST_TYPE \u001b[38;5;241m=\u001b[39m \u001b[38;5;124m\"\u001b[39m\u001b[38;5;124mrequest_type\u001b[39m\u001b[38;5;124m\"\u001b[39m\n\u001b[0;32m      3\u001b[0m     SUB_REQUEST_TYPE \u001b[38;5;241m=\u001b[39m \u001b[38;5;124m\"\u001b[39m\u001b[38;5;124msub_request_type\u001b[39m\u001b[38;5;124m\"\u001b[39m\n",
      "\u001b[1;31mNameError\u001b[0m: name 'Enum' is not defined"
     ]
    }
   ],
   "source": [
    "class TicketCategory(str, Enum):\n",
    "    REQUEST_TYPE = \"request_type\"\n",
    "    SUB_REQUEST_TYPE = \"sub_request_type\"\n",
    "    OTHER = \"other\""
   ]
  },
  {
   "cell_type": "code",
   "execution_count": null,
   "id": "bf5269fd-ca42-483b-88be-8af9ba79f7c1",
   "metadata": {},
   "outputs": [],
   "source": [
    "class CustomerSentiment(str, Enum):\n",
    "    RECEIVED = \"received\"\n",
    "    SEND = \"send\""
   ]
  },
  {
   "cell_type": "code",
   "execution_count": null,
   "id": "d8e13f45-fc6f-4114-9190-ca47576b91f7",
   "metadata": {},
   "outputs": [],
   "source": [
    "class TicketUrgency(str, Enum):\n",
    "    LOW = \"low\"\n",
    "    MEDIUM = \"medium\"\n",
    "    HIGH = \"high\"\n",
    "    PRIORITY = \"priority\""
   ]
  },
  {
   "cell_type": "code",
   "execution_count": null,
   "id": "5e3ddb09-00cd-4ed7-a57e-4f4200e5c3cf",
   "metadata": {},
   "outputs": [],
   "source": [
    "class TicketClassification(BaseModel):\n",
    "    category: TicketCategory\n",
    "    urgency: TicketUrgency\n",
    "    sentiment: CustomerSentiment\n",
    "    confidence: float = Field(ge=0, le=1, description=\"Confidence score for the classification\")\n",
    "    key_information: List[str] = Field(description=\"List of key points extracted from the ticket\")\n",
    "    suggested_action: str = Field(description=\"Brief suggestion for handling the ticket\")"
   ]
  },
  {
   "cell_type": "code",
   "execution_count": null,
   "id": "1159f571-506e-48f2-b0ca-035081c04e45",
   "metadata": {},
   "outputs": [],
   "source": [
    "# --------------------------------------------------------------\n",
    "# Step 4: Bring everything together in a single function\n",
    "# --------------------------------------------------------------\n",
    "\n",
    "def classify_ticket(ticket_text: str) -> TicketClassification:\n",
    "    response = client.chat.completions.create(\n",
    "        model=\"gpt-4o\",\n",
    "        response_model=TicketClassification,\n",
    "        temperature=0,\n",
    "        max_retries=3,\n",
    "        messages=[\n",
    "            {\n",
    "                \"role\": \"system\",\n",
    "                \"content\": \"Analyze the following customer support ticket and extract the requested information.\"\n",
    "            },\n",
    "            {\"role\": \"user\", \"content\": ticket_text}\n",
    "        ]\n",
    "    )\n",
    "    return response\n"
   ]
  },
  {
   "cell_type": "code",
   "execution_count": null,
   "id": "3e40c46a-ca90-4deb-b117-632b4a916d5c",
   "metadata": {},
   "outputs": [],
   "source": [
    "result = classify_ticket(msg_text)"
   ]
  },
  {
   "cell_type": "code",
   "execution_count": null,
   "id": "20554236-53b5-42a7-b55e-033cbe1e9679",
   "metadata": {},
   "outputs": [],
   "source": [
    "print(result.model_dump_json(indent=2))"
   ]
  },
  {
   "cell_type": "code",
   "execution_count": 38,
   "id": "855fa443-2c21-4e52-823d-8cc7ce8f66a0",
   "metadata": {},
   "outputs": [],
   "source": []
  },
  {
   "cell_type": "code",
   "execution_count": null,
   "id": "e2c1f07c-5021-4d6e-8135-062bc19178cd",
   "metadata": {},
   "outputs": [],
   "source": []
  }
 ],
 "metadata": {
  "kernelspec": {
   "display_name": "Python 3 (ipykernel)",
   "language": "python",
   "name": "python3"
  },
  "language_info": {
   "codemirror_mode": {
    "name": "ipython",
    "version": 3
   },
   "file_extension": ".py",
   "mimetype": "text/x-python",
   "name": "python",
   "nbconvert_exporter": "python",
   "pygments_lexer": "ipython3",
   "version": "3.12.3"
  }
 },
 "nbformat": 4,
 "nbformat_minor": 5
}
